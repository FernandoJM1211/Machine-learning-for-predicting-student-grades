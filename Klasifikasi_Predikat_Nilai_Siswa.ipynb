{
  "nbformat": 4,
  "nbformat_minor": 0,
  "metadata": {
    "colab": {
      "provenance": [],
      "toc_visible": true
    },
    "kernelspec": {
      "name": "python3",
      "display_name": "Python 3"
    },
    "language_info": {
      "name": "python"
    }
  },
  "cells": [
    {
      "cell_type": "markdown",
      "source": [
        "# Klasifikasi Predikat Nilai Siswa Sekolah Dasar\n",
        "Notebook ini berisi tahapan pembuatan machine learning untuk memprediksi predikat siswa dalam matapelajaran IPA pada sekolah dasar menggunakan algoritma PCA dan Logistic Regression untuk classifiernya.\n",
        "\n",
        "Tahapan:\n",
        "\n",
        "1.   Data Preprocessing\n",
        "2.   Modelling\n",
        "3.   Predection\n",
        "\n",
        "\n"
      ],
      "metadata": {
        "id": "jdGRE3bMK1dk"
      }
    },
    {
      "cell_type": "markdown",
      "source": [
        "# Import Data"
      ],
      "metadata": {
        "id": "GV8dHxKELNe9"
      }
    },
    {
      "cell_type": "code",
      "source": [
        "import pandas as pd\n",
        "import numpy as np\n",
        "import matplotlib.pyplot as plt\n",
        "\n",
        "train = pd.read_excel('/content/drive/MyDrive/Skripsi/DataNilai.xlsx')"
      ],
      "metadata": {
        "id": "U-eRVTM8LcYH"
      },
      "execution_count": null,
      "outputs": []
    },
    {
      "cell_type": "code",
      "source": [
        "train.head()"
      ],
      "metadata": {
        "colab": {
          "base_uri": "https://localhost:8080/",
          "height": 543
        },
        "id": "a48-DEWFMUvl",
        "outputId": "b70c2c0d-1c87-4d5c-c0fc-531aa27b3057"
      },
      "execution_count": null,
      "outputs": [
        {
          "output_type": "execute_result",
          "data": {
            "text/plain": [
              "                               NAMA  JENIS KELAMIN  KELAS  JUMLAH TIDAK HADIR  \\\n",
              "0                 ARYASETYO PRAMONO              1      4                   1   \n",
              "1  BETHANIA JOVELIN THIRZA SIHOTANG              2      4                   1   \n",
              "2       DANISH GI ANNAIS DALIMUNTHE              1      4                   1   \n",
              "3        DARIEL SYAWAL FIANKA PUTRA              1      4                   1   \n",
              "4        HASNA NABILA KAYNA SIREGAR              2      4                   1   \n",
              "\n",
              "   PEKERJAAN AYAH  PEKERJAAN IBU  JARAK RUMAH  NILAI SYUKUR  NILAI IBADAH  \\\n",
              "0             1.0            1.0            5           3.0           3.0   \n",
              "1            10.0           10.0            2           4.0           3.0   \n",
              "2             8.0            9.0            2           3.0           2.0   \n",
              "3             9.0           10.0            5           3.0           3.0   \n",
              "4            10.0           10.0            1           3.0           3.0   \n",
              "\n",
              "   NILAI TOLERANSI  ...         TC  GC    FP1        FP2   FP3  FP4  FP5  FP6  \\\n",
              "0              3.0  ...  90.602564   B  95.00  89.333333  88.0  NaN  NaN  NaN   \n",
              "1              3.0  ...  90.277778   B  87.50  90.000000  90.0  NaN  NaN  NaN   \n",
              "2              3.0  ...  85.666667   B  86.25  86.666667  85.0  NaN  NaN  NaN   \n",
              "3              3.0  ...  91.888889   A  87.00  88.333333  90.0  NaN  NaN  NaN   \n",
              "4              3.0  ...  90.217949   B  87.00  88.333333  90.0  NaN  NaN  NaN   \n",
              "\n",
              "          TP GP  \n",
              "0  90.777778  B  \n",
              "1  89.166667  B  \n",
              "2  85.972222  B  \n",
              "3  88.444444  B  \n",
              "4  88.444444  B  \n",
              "\n",
              "[5 rows x 48 columns]"
            ],
            "text/html": [
              "\n",
              "  <div id=\"df-ca97c8f2-f3fb-41d4-a52e-801a9453c2d5\">\n",
              "    <div class=\"colab-df-container\">\n",
              "      <div>\n",
              "<style scoped>\n",
              "    .dataframe tbody tr th:only-of-type {\n",
              "        vertical-align: middle;\n",
              "    }\n",
              "\n",
              "    .dataframe tbody tr th {\n",
              "        vertical-align: top;\n",
              "    }\n",
              "\n",
              "    .dataframe thead th {\n",
              "        text-align: right;\n",
              "    }\n",
              "</style>\n",
              "<table border=\"1\" class=\"dataframe\">\n",
              "  <thead>\n",
              "    <tr style=\"text-align: right;\">\n",
              "      <th></th>\n",
              "      <th>NAMA</th>\n",
              "      <th>JENIS KELAMIN</th>\n",
              "      <th>KELAS</th>\n",
              "      <th>JUMLAH TIDAK HADIR</th>\n",
              "      <th>PEKERJAAN AYAH</th>\n",
              "      <th>PEKERJAAN IBU</th>\n",
              "      <th>JARAK RUMAH</th>\n",
              "      <th>NILAI SYUKUR</th>\n",
              "      <th>NILAI IBADAH</th>\n",
              "      <th>NILAI TOLERANSI</th>\n",
              "      <th>...</th>\n",
              "      <th>TC</th>\n",
              "      <th>GC</th>\n",
              "      <th>FP1</th>\n",
              "      <th>FP2</th>\n",
              "      <th>FP3</th>\n",
              "      <th>FP4</th>\n",
              "      <th>FP5</th>\n",
              "      <th>FP6</th>\n",
              "      <th>TP</th>\n",
              "      <th>GP</th>\n",
              "    </tr>\n",
              "  </thead>\n",
              "  <tbody>\n",
              "    <tr>\n",
              "      <th>0</th>\n",
              "      <td>ARYASETYO PRAMONO</td>\n",
              "      <td>1</td>\n",
              "      <td>4</td>\n",
              "      <td>1</td>\n",
              "      <td>1.0</td>\n",
              "      <td>1.0</td>\n",
              "      <td>5</td>\n",
              "      <td>3.0</td>\n",
              "      <td>3.0</td>\n",
              "      <td>3.0</td>\n",
              "      <td>...</td>\n",
              "      <td>90.602564</td>\n",
              "      <td>B</td>\n",
              "      <td>95.00</td>\n",
              "      <td>89.333333</td>\n",
              "      <td>88.0</td>\n",
              "      <td>NaN</td>\n",
              "      <td>NaN</td>\n",
              "      <td>NaN</td>\n",
              "      <td>90.777778</td>\n",
              "      <td>B</td>\n",
              "    </tr>\n",
              "    <tr>\n",
              "      <th>1</th>\n",
              "      <td>BETHANIA JOVELIN THIRZA SIHOTANG</td>\n",
              "      <td>2</td>\n",
              "      <td>4</td>\n",
              "      <td>1</td>\n",
              "      <td>10.0</td>\n",
              "      <td>10.0</td>\n",
              "      <td>2</td>\n",
              "      <td>4.0</td>\n",
              "      <td>3.0</td>\n",
              "      <td>3.0</td>\n",
              "      <td>...</td>\n",
              "      <td>90.277778</td>\n",
              "      <td>B</td>\n",
              "      <td>87.50</td>\n",
              "      <td>90.000000</td>\n",
              "      <td>90.0</td>\n",
              "      <td>NaN</td>\n",
              "      <td>NaN</td>\n",
              "      <td>NaN</td>\n",
              "      <td>89.166667</td>\n",
              "      <td>B</td>\n",
              "    </tr>\n",
              "    <tr>\n",
              "      <th>2</th>\n",
              "      <td>DANISH GI ANNAIS DALIMUNTHE</td>\n",
              "      <td>1</td>\n",
              "      <td>4</td>\n",
              "      <td>1</td>\n",
              "      <td>8.0</td>\n",
              "      <td>9.0</td>\n",
              "      <td>2</td>\n",
              "      <td>3.0</td>\n",
              "      <td>2.0</td>\n",
              "      <td>3.0</td>\n",
              "      <td>...</td>\n",
              "      <td>85.666667</td>\n",
              "      <td>B</td>\n",
              "      <td>86.25</td>\n",
              "      <td>86.666667</td>\n",
              "      <td>85.0</td>\n",
              "      <td>NaN</td>\n",
              "      <td>NaN</td>\n",
              "      <td>NaN</td>\n",
              "      <td>85.972222</td>\n",
              "      <td>B</td>\n",
              "    </tr>\n",
              "    <tr>\n",
              "      <th>3</th>\n",
              "      <td>DARIEL SYAWAL FIANKA PUTRA</td>\n",
              "      <td>1</td>\n",
              "      <td>4</td>\n",
              "      <td>1</td>\n",
              "      <td>9.0</td>\n",
              "      <td>10.0</td>\n",
              "      <td>5</td>\n",
              "      <td>3.0</td>\n",
              "      <td>3.0</td>\n",
              "      <td>3.0</td>\n",
              "      <td>...</td>\n",
              "      <td>91.888889</td>\n",
              "      <td>A</td>\n",
              "      <td>87.00</td>\n",
              "      <td>88.333333</td>\n",
              "      <td>90.0</td>\n",
              "      <td>NaN</td>\n",
              "      <td>NaN</td>\n",
              "      <td>NaN</td>\n",
              "      <td>88.444444</td>\n",
              "      <td>B</td>\n",
              "    </tr>\n",
              "    <tr>\n",
              "      <th>4</th>\n",
              "      <td>HASNA NABILA KAYNA SIREGAR</td>\n",
              "      <td>2</td>\n",
              "      <td>4</td>\n",
              "      <td>1</td>\n",
              "      <td>10.0</td>\n",
              "      <td>10.0</td>\n",
              "      <td>1</td>\n",
              "      <td>3.0</td>\n",
              "      <td>3.0</td>\n",
              "      <td>3.0</td>\n",
              "      <td>...</td>\n",
              "      <td>90.217949</td>\n",
              "      <td>B</td>\n",
              "      <td>87.00</td>\n",
              "      <td>88.333333</td>\n",
              "      <td>90.0</td>\n",
              "      <td>NaN</td>\n",
              "      <td>NaN</td>\n",
              "      <td>NaN</td>\n",
              "      <td>88.444444</td>\n",
              "      <td>B</td>\n",
              "    </tr>\n",
              "  </tbody>\n",
              "</table>\n",
              "<p>5 rows × 48 columns</p>\n",
              "</div>\n",
              "      <button class=\"colab-df-convert\" onclick=\"convertToInteractive('df-ca97c8f2-f3fb-41d4-a52e-801a9453c2d5')\"\n",
              "              title=\"Convert this dataframe to an interactive table.\"\n",
              "              style=\"display:none;\">\n",
              "        \n",
              "  <svg xmlns=\"http://www.w3.org/2000/svg\" height=\"24px\"viewBox=\"0 0 24 24\"\n",
              "       width=\"24px\">\n",
              "    <path d=\"M0 0h24v24H0V0z\" fill=\"none\"/>\n",
              "    <path d=\"M18.56 5.44l.94 2.06.94-2.06 2.06-.94-2.06-.94-.94-2.06-.94 2.06-2.06.94zm-11 1L8.5 8.5l.94-2.06 2.06-.94-2.06-.94L8.5 2.5l-.94 2.06-2.06.94zm10 10l.94 2.06.94-2.06 2.06-.94-2.06-.94-.94-2.06-.94 2.06-2.06.94z\"/><path d=\"M17.41 7.96l-1.37-1.37c-.4-.4-.92-.59-1.43-.59-.52 0-1.04.2-1.43.59L10.3 9.45l-7.72 7.72c-.78.78-.78 2.05 0 2.83L4 21.41c.39.39.9.59 1.41.59.51 0 1.02-.2 1.41-.59l7.78-7.78 2.81-2.81c.8-.78.8-2.07 0-2.86zM5.41 20L4 18.59l7.72-7.72 1.47 1.35L5.41 20z\"/>\n",
              "  </svg>\n",
              "      </button>\n",
              "      \n",
              "  <style>\n",
              "    .colab-df-container {\n",
              "      display:flex;\n",
              "      flex-wrap:wrap;\n",
              "      gap: 12px;\n",
              "    }\n",
              "\n",
              "    .colab-df-convert {\n",
              "      background-color: #E8F0FE;\n",
              "      border: none;\n",
              "      border-radius: 50%;\n",
              "      cursor: pointer;\n",
              "      display: none;\n",
              "      fill: #1967D2;\n",
              "      height: 32px;\n",
              "      padding: 0 0 0 0;\n",
              "      width: 32px;\n",
              "    }\n",
              "\n",
              "    .colab-df-convert:hover {\n",
              "      background-color: #E2EBFA;\n",
              "      box-shadow: 0px 1px 2px rgba(60, 64, 67, 0.3), 0px 1px 3px 1px rgba(60, 64, 67, 0.15);\n",
              "      fill: #174EA6;\n",
              "    }\n",
              "\n",
              "    [theme=dark] .colab-df-convert {\n",
              "      background-color: #3B4455;\n",
              "      fill: #D2E3FC;\n",
              "    }\n",
              "\n",
              "    [theme=dark] .colab-df-convert:hover {\n",
              "      background-color: #434B5C;\n",
              "      box-shadow: 0px 1px 3px 1px rgba(0, 0, 0, 0.15);\n",
              "      filter: drop-shadow(0px 1px 2px rgba(0, 0, 0, 0.3));\n",
              "      fill: #FFFFFF;\n",
              "    }\n",
              "  </style>\n",
              "\n",
              "      <script>\n",
              "        const buttonEl =\n",
              "          document.querySelector('#df-ca97c8f2-f3fb-41d4-a52e-801a9453c2d5 button.colab-df-convert');\n",
              "        buttonEl.style.display =\n",
              "          google.colab.kernel.accessAllowed ? 'block' : 'none';\n",
              "\n",
              "        async function convertToInteractive(key) {\n",
              "          const element = document.querySelector('#df-ca97c8f2-f3fb-41d4-a52e-801a9453c2d5');\n",
              "          const dataTable =\n",
              "            await google.colab.kernel.invokeFunction('convertToInteractive',\n",
              "                                                     [key], {});\n",
              "          if (!dataTable) return;\n",
              "\n",
              "          const docLinkHtml = 'Like what you see? Visit the ' +\n",
              "            '<a target=\"_blank\" href=https://colab.research.google.com/notebooks/data_table.ipynb>data table notebook</a>'\n",
              "            + ' to learn more about interactive tables.';\n",
              "          element.innerHTML = '';\n",
              "          dataTable['output_type'] = 'display_data';\n",
              "          await google.colab.output.renderOutput(dataTable, element);\n",
              "          const docLink = document.createElement('div');\n",
              "          docLink.innerHTML = docLinkHtml;\n",
              "          element.appendChild(docLink);\n",
              "        }\n",
              "      </script>\n",
              "    </div>\n",
              "  </div>\n",
              "  "
            ]
          },
          "metadata": {},
          "execution_count": 126
        }
      ]
    },
    {
      "cell_type": "markdown",
      "source": [
        "# Data Preprocessing"
      ],
      "metadata": {
        "id": "_RdlxDlBNCQ8"
      }
    },
    {
      "cell_type": "markdown",
      "source": [
        "## Drop Kolom"
      ],
      "metadata": {
        "id": "DoiAFKVMET0G"
      }
    },
    {
      "cell_type": "markdown",
      "source": [
        "Drop kolom nama dan kelas karena tidak dibutuhkan untuk klasifikasi"
      ],
      "metadata": {
        "id": "QdID-EqOEVz9"
      }
    },
    {
      "cell_type": "code",
      "source": [
        "train = train.drop(['NAMA', 'KELAS'], axis = 1)"
      ],
      "metadata": {
        "id": "3FtygVc7EY5N"
      },
      "execution_count": null,
      "outputs": []
    },
    {
      "cell_type": "markdown",
      "source": [
        "## Missing value"
      ],
      "metadata": {
        "id": "PgxTbnX2NG_c"
      }
    },
    {
      "cell_type": "markdown",
      "source": [
        "### Cek missing value pada data"
      ],
      "metadata": {
        "id": "I9foSpp2Onye"
      }
    },
    {
      "cell_type": "code",
      "source": [
        "train.isnull().sum()"
      ],
      "metadata": {
        "colab": {
          "base_uri": "https://localhost:8080/"
        },
        "id": "4fon3GnZNIjE",
        "outputId": "c835b9c8-0ce6-497f-c6c2-379ec4de0278"
      },
      "execution_count": null,
      "outputs": [
        {
          "output_type": "execute_result",
          "data": {
            "text/plain": [
              "JENIS KELAMIN             0\n",
              "JUMLAH TIDAK HADIR        0\n",
              "PEKERJAAN AYAH           41\n",
              "PEKERJAAN IBU            40\n",
              "JARAK RUMAH               0\n",
              "NILAI SYUKUR              0\n",
              "NILAI IBADAH              0\n",
              "NILAI TOLERANSI           0\n",
              "NILAI BERDOA              0\n",
              "NILAI JUJUR               0\n",
              "NILAI DISIPLIN            0\n",
              "NILAI TANGGUNG JAWAB      0\n",
              "NILAI SANTUN              0\n",
              "NILAI PEDULI              0\n",
              "NILAI PERCAYA DIRI        0\n",
              "NILAI KERJASAMA           0\n",
              "Ekskul 1                  0\n",
              "PRE                       0\n",
              "Ekskul 2                  4\n",
              "PRE.1                     4\n",
              "Ekskul 3                 47\n",
              "PRE.2                    47\n",
              "Ekskul 4                 97\n",
              "PRE.3                    97\n",
              "Ekskul 5                105\n",
              "PRE.4                   105\n",
              "FC1                       0\n",
              "FC2                       0\n",
              "FC3                       1\n",
              "FC4                      20\n",
              "FC5                      38\n",
              "FC6                      68\n",
              "FC7                      88\n",
              "FC8                      88\n",
              "SC1                       0\n",
              "SC2                       0\n",
              "TC                        0\n",
              "GC                        0\n",
              "FP1                       0\n",
              "FP2                       0\n",
              "FP3                      20\n",
              "FP4                      38\n",
              "FP5                      38\n",
              "FP6                      69\n",
              "TP                        0\n",
              "GP                        0\n",
              "dtype: int64"
            ]
          },
          "metadata": {},
          "execution_count": 128
        }
      ]
    },
    {
      "cell_type": "markdown",
      "source": [
        "### Mengisi missing value"
      ],
      "metadata": {
        "id": "oO4FbXroOwi9"
      }
    },
    {
      "cell_type": "code",
      "source": [
        "train.info()"
      ],
      "metadata": {
        "colab": {
          "base_uri": "https://localhost:8080/"
        },
        "id": "7w01Iy9TPCZg",
        "outputId": "07a3bf01-847f-456e-95ae-1bb9b4835f14"
      },
      "execution_count": null,
      "outputs": [
        {
          "output_type": "stream",
          "name": "stdout",
          "text": [
            "<class 'pandas.core.frame.DataFrame'>\n",
            "RangeIndex: 106 entries, 0 to 105\n",
            "Data columns (total 46 columns):\n",
            " #   Column                Non-Null Count  Dtype  \n",
            "---  ------                --------------  -----  \n",
            " 0   JENIS KELAMIN         106 non-null    int64  \n",
            " 1   JUMLAH TIDAK HADIR    106 non-null    int64  \n",
            " 2   PEKERJAAN AYAH        65 non-null     float64\n",
            " 3   PEKERJAAN IBU         66 non-null     float64\n",
            " 4   JARAK RUMAH           106 non-null    int64  \n",
            " 5   NILAI SYUKUR          106 non-null    float64\n",
            " 6   NILAI IBADAH          106 non-null    float64\n",
            " 7   NILAI TOLERANSI       106 non-null    float64\n",
            " 8   NILAI BERDOA          106 non-null    float64\n",
            " 9   NILAI JUJUR           106 non-null    float64\n",
            " 10  NILAI DISIPLIN        106 non-null    float64\n",
            " 11  NILAI TANGGUNG JAWAB  106 non-null    int64  \n",
            " 12  NILAI SANTUN          106 non-null    int64  \n",
            " 13  NILAI PEDULI          106 non-null    int64  \n",
            " 14  NILAI PERCAYA DIRI    106 non-null    int64  \n",
            " 15  NILAI KERJASAMA       106 non-null    int64  \n",
            " 16  Ekskul 1              106 non-null    int64  \n",
            " 17  PRE                   106 non-null    object \n",
            " 18  Ekskul 2              102 non-null    float64\n",
            " 19  PRE.1                 102 non-null    object \n",
            " 20  Ekskul 3              59 non-null     float64\n",
            " 21  PRE.2                 59 non-null     object \n",
            " 22  Ekskul 4              9 non-null      float64\n",
            " 23  PRE.3                 9 non-null      object \n",
            " 24  Ekskul 5              1 non-null      float64\n",
            " 25  PRE.4                 1 non-null      object \n",
            " 26  FC1                   106 non-null    float64\n",
            " 27  FC2                   106 non-null    float64\n",
            " 28  FC3                   105 non-null    float64\n",
            " 29  FC4                   86 non-null     float64\n",
            " 30  FC5                   68 non-null     float64\n",
            " 31  FC6                   38 non-null     float64\n",
            " 32  FC7                   18 non-null     float64\n",
            " 33  FC8                   18 non-null     float64\n",
            " 34  SC1                   106 non-null    float64\n",
            " 35  SC2                   106 non-null    float64\n",
            " 36  TC                    106 non-null    float64\n",
            " 37  GC                    106 non-null    object \n",
            " 38  FP1                   106 non-null    float64\n",
            " 39  FP2                   106 non-null    float64\n",
            " 40  FP3                   86 non-null     float64\n",
            " 41  FP4                   68 non-null     float64\n",
            " 42  FP5                   68 non-null     float64\n",
            " 43  FP6                   37 non-null     float64\n",
            " 44  TP                    106 non-null    float64\n",
            " 45  GP                    106 non-null    object \n",
            "dtypes: float64(30), int64(9), object(7)\n",
            "memory usage: 38.2+ KB\n"
          ]
        }
      ]
    },
    {
      "cell_type": "markdown",
      "source": [
        "Mengisi missing value data kategorikal menggunakan modus"
      ],
      "metadata": {
        "id": "pRIu5RlvPFW9"
      }
    },
    {
      "cell_type": "code",
      "source": [
        "train['PEKERJAAN AYAH'] = train['PEKERJAAN AYAH'].fillna((train['PEKERJAAN AYAH'].mode()).iloc[0])\n",
        "train['PEKERJAAN IBU'] = train['PEKERJAAN IBU'].fillna((train['PEKERJAAN IBU'].mode()).iloc[0])\n",
        "train['Ekskul 2'] = train['Ekskul 2'].fillna((train['Ekskul 2'].mode()).iloc[0])\n",
        "train['PRE.1'] = train['PRE.1'].fillna((train['PRE.1'].mode()).iloc[0])\n",
        "train['Ekskul 3'] = train['Ekskul 3'].fillna((train['Ekskul 3'].mode()).iloc[0])\n",
        "train['PRE.2'] = train['PRE.2'].fillna((train['PRE.2'].mode()).iloc[0])\n",
        "train['Ekskul 4'] = train['Ekskul 4'].fillna((train['Ekskul 4'].mode()).iloc[0])\n",
        "train['PRE.3'] = train['PRE.3'].fillna((train['PRE.3'].mode()).iloc[0])\n",
        "train['Ekskul 5'] = train['Ekskul 5'].fillna((train['Ekskul 5'].mode()).iloc[0])\n",
        "train['PRE.4'] = train['PRE.4'].fillna((train['PRE.4'].mode()).iloc[0])"
      ],
      "metadata": {
        "id": "Ccn0H1IoPMRG"
      },
      "execution_count": null,
      "outputs": []
    },
    {
      "cell_type": "code",
      "source": [
        "#cek perubahan missing value pada data tipe kategorikal\n",
        "train.isnull().sum()"
      ],
      "metadata": {
        "colab": {
          "base_uri": "https://localhost:8080/"
        },
        "id": "LoxeSMcI70ZZ",
        "outputId": "df1b99a5-aada-4898-b160-70c35cebf11b"
      },
      "execution_count": null,
      "outputs": [
        {
          "output_type": "execute_result",
          "data": {
            "text/plain": [
              "JENIS KELAMIN            0\n",
              "JUMLAH TIDAK HADIR       0\n",
              "PEKERJAAN AYAH           0\n",
              "PEKERJAAN IBU            0\n",
              "JARAK RUMAH              0\n",
              "NILAI SYUKUR             0\n",
              "NILAI IBADAH             0\n",
              "NILAI TOLERANSI          0\n",
              "NILAI BERDOA             0\n",
              "NILAI JUJUR              0\n",
              "NILAI DISIPLIN           0\n",
              "NILAI TANGGUNG JAWAB     0\n",
              "NILAI SANTUN             0\n",
              "NILAI PEDULI             0\n",
              "NILAI PERCAYA DIRI       0\n",
              "NILAI KERJASAMA          0\n",
              "Ekskul 1                 0\n",
              "PRE                      0\n",
              "Ekskul 2                 0\n",
              "PRE.1                    0\n",
              "Ekskul 3                 0\n",
              "PRE.2                    0\n",
              "Ekskul 4                 0\n",
              "PRE.3                    0\n",
              "Ekskul 5                 0\n",
              "PRE.4                    0\n",
              "FC1                      0\n",
              "FC2                      0\n",
              "FC3                      1\n",
              "FC4                     20\n",
              "FC5                     38\n",
              "FC6                     68\n",
              "FC7                     88\n",
              "FC8                     88\n",
              "SC1                      0\n",
              "SC2                      0\n",
              "TC                       0\n",
              "GC                       0\n",
              "FP1                      0\n",
              "FP2                      0\n",
              "FP3                     20\n",
              "FP4                     38\n",
              "FP5                     38\n",
              "FP6                     69\n",
              "TP                       0\n",
              "GP                       0\n",
              "dtype: int64"
            ]
          },
          "metadata": {},
          "execution_count": 131
        }
      ]
    },
    {
      "cell_type": "markdown",
      "source": [
        "Mengisi missing value data numerik dengan mean"
      ],
      "metadata": {
        "id": "jeUXN8yPPOf1"
      }
    },
    {
      "cell_type": "code",
      "source": [
        "train['FC3'] = train[\"FC3\"].fillna(train['FC3'].mean())\n",
        "train['FC4'] = train[\"FC4\"].fillna(train['FC4'].mean())\n",
        "train['FC5'] = train[\"FC5\"].fillna(train['FC5'].mean())\n",
        "train['FC6'] = train[\"FC6\"].fillna(train['FC6'].mean())\n",
        "train['FC7'] = train[\"FC7\"].fillna(train['FC7'].mean())\n",
        "train['FC8'] = train[\"FC8\"].fillna(train['FC8'].mean())\n",
        "train['FP3'] = train[\"FP3\"].fillna(train['FP3'].mean())\n",
        "train['FP4'] = train[\"FP4\"].fillna(train['FP4'].mean())\n",
        "train['FP5'] = train[\"FP5\"].fillna(train['FP5'].mean())\n",
        "train['FP6'] = train[\"FP6\"].fillna(train['FP6'].mean())"
      ],
      "metadata": {
        "id": "u7mPk32MPSGF"
      },
      "execution_count": null,
      "outputs": []
    },
    {
      "cell_type": "markdown",
      "source": [
        "cek missing value yang sudah diatasi"
      ],
      "metadata": {
        "id": "k7skcErOPVbW"
      }
    },
    {
      "cell_type": "code",
      "source": [
        "train.isnull().sum()"
      ],
      "metadata": {
        "colab": {
          "base_uri": "https://localhost:8080/"
        },
        "id": "UY-_q67BPUwO",
        "outputId": "fcdad3b8-f139-4766-d754-df29ebda84ca"
      },
      "execution_count": null,
      "outputs": [
        {
          "output_type": "execute_result",
          "data": {
            "text/plain": [
              "JENIS KELAMIN           0\n",
              "JUMLAH TIDAK HADIR      0\n",
              "PEKERJAAN AYAH          0\n",
              "PEKERJAAN IBU           0\n",
              "JARAK RUMAH             0\n",
              "NILAI SYUKUR            0\n",
              "NILAI IBADAH            0\n",
              "NILAI TOLERANSI         0\n",
              "NILAI BERDOA            0\n",
              "NILAI JUJUR             0\n",
              "NILAI DISIPLIN          0\n",
              "NILAI TANGGUNG JAWAB    0\n",
              "NILAI SANTUN            0\n",
              "NILAI PEDULI            0\n",
              "NILAI PERCAYA DIRI      0\n",
              "NILAI KERJASAMA         0\n",
              "Ekskul 1                0\n",
              "PRE                     0\n",
              "Ekskul 2                0\n",
              "PRE.1                   0\n",
              "Ekskul 3                0\n",
              "PRE.2                   0\n",
              "Ekskul 4                0\n",
              "PRE.3                   0\n",
              "Ekskul 5                0\n",
              "PRE.4                   0\n",
              "FC1                     0\n",
              "FC2                     0\n",
              "FC3                     0\n",
              "FC4                     0\n",
              "FC5                     0\n",
              "FC6                     0\n",
              "FC7                     0\n",
              "FC8                     0\n",
              "SC1                     0\n",
              "SC2                     0\n",
              "TC                      0\n",
              "GC                      0\n",
              "FP1                     0\n",
              "FP2                     0\n",
              "FP3                     0\n",
              "FP4                     0\n",
              "FP5                     0\n",
              "FP6                     0\n",
              "TP                      0\n",
              "GP                      0\n",
              "dtype: int64"
            ]
          },
          "metadata": {},
          "execution_count": 133
        }
      ]
    },
    {
      "cell_type": "markdown",
      "source": [
        "## Data duplikat"
      ],
      "metadata": {
        "id": "jz3S93_e7bBg"
      }
    },
    {
      "cell_type": "code",
      "source": [
        "print(train.duplicated().sum())\n",
        "train.drop_duplicates(inplace=True)\n",
        "print(train.duplicated().sum())"
      ],
      "metadata": {
        "colab": {
          "base_uri": "https://localhost:8080/"
        },
        "id": "di4_gnhs7epj",
        "outputId": "4a55527e-6b39-4e7b-9e28-250b39325eb8"
      },
      "execution_count": null,
      "outputs": [
        {
          "output_type": "stream",
          "name": "stdout",
          "text": [
            "0\n",
            "0\n"
          ]
        }
      ]
    },
    {
      "cell_type": "markdown",
      "source": [
        "## Outlier"
      ],
      "metadata": {
        "id": "IwvXYslQQWOV"
      }
    },
    {
      "cell_type": "markdown",
      "source": [
        "menghapus data yang terindikasi sebagai outlier, yang memiliki nilai standar deviasi lebih dari 3 mengunakan metode z score"
      ],
      "metadata": {
        "id": "fgBrS4m5QYr9"
      }
    },
    {
      "cell_type": "code",
      "source": [
        "from scipy import stats\n",
        "\n",
        "print(f'Jumlah baris sebelum memfilter outlier: {len(train)}')\n",
        "\n",
        "filtered_entries = np.array([True] * len(train))\n",
        "for col in ['FC1','FC2','FC3','FC4','FC5','FC6','FC7','FC8','SC1','SC2','TC','FP1','FP2','FP3','FP4','FP5','FP6']:\n",
        "    zscore = abs(stats.zscore(train[col]))\n",
        "    filtered_entries = (zscore < 3) & filtered_entries\n",
        "    \n",
        "train = train[filtered_entries]\n",
        "\n",
        "print(f'Jumlah baris setelah memfilter outlier: {len(train)}')"
      ],
      "metadata": {
        "colab": {
          "base_uri": "https://localhost:8080/"
        },
        "id": "4JViz0w_QXzd",
        "outputId": "e49a5c42-27fd-42b8-b7df-e4e52cdee1e7"
      },
      "execution_count": null,
      "outputs": [
        {
          "output_type": "stream",
          "name": "stdout",
          "text": [
            "Jumlah baris sebelum memfilter outlier: 106\n",
            "Jumlah baris setelah memfilter outlier: 93\n"
          ]
        }
      ]
    },
    {
      "cell_type": "markdown",
      "source": [
        "## Encoding"
      ],
      "metadata": {
        "id": "-qauUPMAPutV"
      }
    },
    {
      "cell_type": "markdown",
      "source": [
        "encoding data menggunakan label encoder"
      ],
      "metadata": {
        "id": "5LDpemVoP1jW"
      }
    },
    {
      "cell_type": "code",
      "source": [
        "from sklearn.preprocessing import LabelEncoder\n",
        "\n",
        "train = train.apply(LabelEncoder().fit_transform)\n",
        "train.head()"
      ],
      "metadata": {
        "colab": {
          "base_uri": "https://localhost:8080/",
          "height": 334
        },
        "id": "7rFLeqZtP4XM",
        "outputId": "5c1458cb-e321-44ee-a8da-465e95b34823"
      },
      "execution_count": null,
      "outputs": [
        {
          "output_type": "execute_result",
          "data": {
            "text/plain": [
              "   JENIS KELAMIN  JUMLAH TIDAK HADIR  PEKERJAAN AYAH  PEKERJAAN IBU  \\\n",
              "0              0                   0               0              0   \n",
              "1              1                   0               3              4   \n",
              "2              0                   0               1              3   \n",
              "3              0                   0               2              4   \n",
              "4              1                   0               3              4   \n",
              "\n",
              "   JARAK RUMAH  NILAI SYUKUR  NILAI IBADAH  NILAI TOLERANSI  NILAI BERDOA  \\\n",
              "0            4             1             1                1             1   \n",
              "1            1             6             1                1             1   \n",
              "2            1             1             0                1             1   \n",
              "3            4             1             1                1             1   \n",
              "4            0             1             1                1             1   \n",
              "\n",
              "   NILAI JUJUR  ...  TC  GC  FP1  FP2  FP3  FP4  FP5  FP6  TP  GP  \n",
              "0            1  ...  69   1   18   12   10    7    6    1  41   1  \n",
              "1            1  ...  66   1    8   14   13    7    6    1  31   1  \n",
              "2            1  ...  31   1    5    6    7    7    6    1  10   1  \n",
              "3            0  ...  76   0    7   10   13    7    6    1  26   1  \n",
              "4            1  ...  64   1    7   10   13    7    6    1  26   1  \n",
              "\n",
              "[5 rows x 46 columns]"
            ],
            "text/html": [
              "\n",
              "  <div id=\"df-73f3ab82-6aa1-434f-a3f0-4419fa78be19\">\n",
              "    <div class=\"colab-df-container\">\n",
              "      <div>\n",
              "<style scoped>\n",
              "    .dataframe tbody tr th:only-of-type {\n",
              "        vertical-align: middle;\n",
              "    }\n",
              "\n",
              "    .dataframe tbody tr th {\n",
              "        vertical-align: top;\n",
              "    }\n",
              "\n",
              "    .dataframe thead th {\n",
              "        text-align: right;\n",
              "    }\n",
              "</style>\n",
              "<table border=\"1\" class=\"dataframe\">\n",
              "  <thead>\n",
              "    <tr style=\"text-align: right;\">\n",
              "      <th></th>\n",
              "      <th>JENIS KELAMIN</th>\n",
              "      <th>JUMLAH TIDAK HADIR</th>\n",
              "      <th>PEKERJAAN AYAH</th>\n",
              "      <th>PEKERJAAN IBU</th>\n",
              "      <th>JARAK RUMAH</th>\n",
              "      <th>NILAI SYUKUR</th>\n",
              "      <th>NILAI IBADAH</th>\n",
              "      <th>NILAI TOLERANSI</th>\n",
              "      <th>NILAI BERDOA</th>\n",
              "      <th>NILAI JUJUR</th>\n",
              "      <th>...</th>\n",
              "      <th>TC</th>\n",
              "      <th>GC</th>\n",
              "      <th>FP1</th>\n",
              "      <th>FP2</th>\n",
              "      <th>FP3</th>\n",
              "      <th>FP4</th>\n",
              "      <th>FP5</th>\n",
              "      <th>FP6</th>\n",
              "      <th>TP</th>\n",
              "      <th>GP</th>\n",
              "    </tr>\n",
              "  </thead>\n",
              "  <tbody>\n",
              "    <tr>\n",
              "      <th>0</th>\n",
              "      <td>0</td>\n",
              "      <td>0</td>\n",
              "      <td>0</td>\n",
              "      <td>0</td>\n",
              "      <td>4</td>\n",
              "      <td>1</td>\n",
              "      <td>1</td>\n",
              "      <td>1</td>\n",
              "      <td>1</td>\n",
              "      <td>1</td>\n",
              "      <td>...</td>\n",
              "      <td>69</td>\n",
              "      <td>1</td>\n",
              "      <td>18</td>\n",
              "      <td>12</td>\n",
              "      <td>10</td>\n",
              "      <td>7</td>\n",
              "      <td>6</td>\n",
              "      <td>1</td>\n",
              "      <td>41</td>\n",
              "      <td>1</td>\n",
              "    </tr>\n",
              "    <tr>\n",
              "      <th>1</th>\n",
              "      <td>1</td>\n",
              "      <td>0</td>\n",
              "      <td>3</td>\n",
              "      <td>4</td>\n",
              "      <td>1</td>\n",
              "      <td>6</td>\n",
              "      <td>1</td>\n",
              "      <td>1</td>\n",
              "      <td>1</td>\n",
              "      <td>1</td>\n",
              "      <td>...</td>\n",
              "      <td>66</td>\n",
              "      <td>1</td>\n",
              "      <td>8</td>\n",
              "      <td>14</td>\n",
              "      <td>13</td>\n",
              "      <td>7</td>\n",
              "      <td>6</td>\n",
              "      <td>1</td>\n",
              "      <td>31</td>\n",
              "      <td>1</td>\n",
              "    </tr>\n",
              "    <tr>\n",
              "      <th>2</th>\n",
              "      <td>0</td>\n",
              "      <td>0</td>\n",
              "      <td>1</td>\n",
              "      <td>3</td>\n",
              "      <td>1</td>\n",
              "      <td>1</td>\n",
              "      <td>0</td>\n",
              "      <td>1</td>\n",
              "      <td>1</td>\n",
              "      <td>1</td>\n",
              "      <td>...</td>\n",
              "      <td>31</td>\n",
              "      <td>1</td>\n",
              "      <td>5</td>\n",
              "      <td>6</td>\n",
              "      <td>7</td>\n",
              "      <td>7</td>\n",
              "      <td>6</td>\n",
              "      <td>1</td>\n",
              "      <td>10</td>\n",
              "      <td>1</td>\n",
              "    </tr>\n",
              "    <tr>\n",
              "      <th>3</th>\n",
              "      <td>0</td>\n",
              "      <td>0</td>\n",
              "      <td>2</td>\n",
              "      <td>4</td>\n",
              "      <td>4</td>\n",
              "      <td>1</td>\n",
              "      <td>1</td>\n",
              "      <td>1</td>\n",
              "      <td>1</td>\n",
              "      <td>0</td>\n",
              "      <td>...</td>\n",
              "      <td>76</td>\n",
              "      <td>0</td>\n",
              "      <td>7</td>\n",
              "      <td>10</td>\n",
              "      <td>13</td>\n",
              "      <td>7</td>\n",
              "      <td>6</td>\n",
              "      <td>1</td>\n",
              "      <td>26</td>\n",
              "      <td>1</td>\n",
              "    </tr>\n",
              "    <tr>\n",
              "      <th>4</th>\n",
              "      <td>1</td>\n",
              "      <td>0</td>\n",
              "      <td>3</td>\n",
              "      <td>4</td>\n",
              "      <td>0</td>\n",
              "      <td>1</td>\n",
              "      <td>1</td>\n",
              "      <td>1</td>\n",
              "      <td>1</td>\n",
              "      <td>1</td>\n",
              "      <td>...</td>\n",
              "      <td>64</td>\n",
              "      <td>1</td>\n",
              "      <td>7</td>\n",
              "      <td>10</td>\n",
              "      <td>13</td>\n",
              "      <td>7</td>\n",
              "      <td>6</td>\n",
              "      <td>1</td>\n",
              "      <td>26</td>\n",
              "      <td>1</td>\n",
              "    </tr>\n",
              "  </tbody>\n",
              "</table>\n",
              "<p>5 rows × 46 columns</p>\n",
              "</div>\n",
              "      <button class=\"colab-df-convert\" onclick=\"convertToInteractive('df-73f3ab82-6aa1-434f-a3f0-4419fa78be19')\"\n",
              "              title=\"Convert this dataframe to an interactive table.\"\n",
              "              style=\"display:none;\">\n",
              "        \n",
              "  <svg xmlns=\"http://www.w3.org/2000/svg\" height=\"24px\"viewBox=\"0 0 24 24\"\n",
              "       width=\"24px\">\n",
              "    <path d=\"M0 0h24v24H0V0z\" fill=\"none\"/>\n",
              "    <path d=\"M18.56 5.44l.94 2.06.94-2.06 2.06-.94-2.06-.94-.94-2.06-.94 2.06-2.06.94zm-11 1L8.5 8.5l.94-2.06 2.06-.94-2.06-.94L8.5 2.5l-.94 2.06-2.06.94zm10 10l.94 2.06.94-2.06 2.06-.94-2.06-.94-.94-2.06-.94 2.06-2.06.94z\"/><path d=\"M17.41 7.96l-1.37-1.37c-.4-.4-.92-.59-1.43-.59-.52 0-1.04.2-1.43.59L10.3 9.45l-7.72 7.72c-.78.78-.78 2.05 0 2.83L4 21.41c.39.39.9.59 1.41.59.51 0 1.02-.2 1.41-.59l7.78-7.78 2.81-2.81c.8-.78.8-2.07 0-2.86zM5.41 20L4 18.59l7.72-7.72 1.47 1.35L5.41 20z\"/>\n",
              "  </svg>\n",
              "      </button>\n",
              "      \n",
              "  <style>\n",
              "    .colab-df-container {\n",
              "      display:flex;\n",
              "      flex-wrap:wrap;\n",
              "      gap: 12px;\n",
              "    }\n",
              "\n",
              "    .colab-df-convert {\n",
              "      background-color: #E8F0FE;\n",
              "      border: none;\n",
              "      border-radius: 50%;\n",
              "      cursor: pointer;\n",
              "      display: none;\n",
              "      fill: #1967D2;\n",
              "      height: 32px;\n",
              "      padding: 0 0 0 0;\n",
              "      width: 32px;\n",
              "    }\n",
              "\n",
              "    .colab-df-convert:hover {\n",
              "      background-color: #E2EBFA;\n",
              "      box-shadow: 0px 1px 2px rgba(60, 64, 67, 0.3), 0px 1px 3px 1px rgba(60, 64, 67, 0.15);\n",
              "      fill: #174EA6;\n",
              "    }\n",
              "\n",
              "    [theme=dark] .colab-df-convert {\n",
              "      background-color: #3B4455;\n",
              "      fill: #D2E3FC;\n",
              "    }\n",
              "\n",
              "    [theme=dark] .colab-df-convert:hover {\n",
              "      background-color: #434B5C;\n",
              "      box-shadow: 0px 1px 3px 1px rgba(0, 0, 0, 0.15);\n",
              "      filter: drop-shadow(0px 1px 2px rgba(0, 0, 0, 0.3));\n",
              "      fill: #FFFFFF;\n",
              "    }\n",
              "  </style>\n",
              "\n",
              "      <script>\n",
              "        const buttonEl =\n",
              "          document.querySelector('#df-73f3ab82-6aa1-434f-a3f0-4419fa78be19 button.colab-df-convert');\n",
              "        buttonEl.style.display =\n",
              "          google.colab.kernel.accessAllowed ? 'block' : 'none';\n",
              "\n",
              "        async function convertToInteractive(key) {\n",
              "          const element = document.querySelector('#df-73f3ab82-6aa1-434f-a3f0-4419fa78be19');\n",
              "          const dataTable =\n",
              "            await google.colab.kernel.invokeFunction('convertToInteractive',\n",
              "                                                     [key], {});\n",
              "          if (!dataTable) return;\n",
              "\n",
              "          const docLinkHtml = 'Like what you see? Visit the ' +\n",
              "            '<a target=\"_blank\" href=https://colab.research.google.com/notebooks/data_table.ipynb>data table notebook</a>'\n",
              "            + ' to learn more about interactive tables.';\n",
              "          element.innerHTML = '';\n",
              "          dataTable['output_type'] = 'display_data';\n",
              "          await google.colab.output.renderOutput(dataTable, element);\n",
              "          const docLink = document.createElement('div');\n",
              "          docLink.innerHTML = docLinkHtml;\n",
              "          element.appendChild(docLink);\n",
              "        }\n",
              "      </script>\n",
              "    </div>\n",
              "  </div>\n",
              "  "
            ]
          },
          "metadata": {},
          "execution_count": 136
        }
      ]
    },
    {
      "cell_type": "markdown",
      "source": [
        "## Split data train dan data test"
      ],
      "metadata": {
        "id": "SGiZ0r_KQ2he"
      }
    },
    {
      "cell_type": "code",
      "source": [
        "#Split train and evaluation set\n",
        "from sklearn.model_selection import train_test_split\n",
        "\n",
        "y = train['GC'] #dependent atau target\n",
        "X = train.drop(['GC'], axis=1) #input/features/independent variable\n",
        "\n",
        "X_train, X_test, y_train, y_test = train_test_split(X, y, test_size = 0.3, random_state = 123)"
      ],
      "metadata": {
        "id": "azccCZgUQzYp"
      },
      "execution_count": null,
      "outputs": []
    },
    {
      "cell_type": "markdown",
      "source": [
        "## standarisasi"
      ],
      "metadata": {
        "id": "6Ba_Vjlfp-G7"
      }
    },
    {
      "cell_type": "code",
      "source": [
        "# Proses Feature Scaling\n",
        "from sklearn.preprocessing import StandardScaler\n",
        "sc = StandardScaler()\n",
        "X_train = sc.fit_transform(X_train)\n",
        "X_test = sc.transform(X_test)"
      ],
      "metadata": {
        "id": "0PpHFA01qHqf"
      },
      "execution_count": null,
      "outputs": []
    },
    {
      "cell_type": "markdown",
      "source": [
        "# Data Reduction"
      ],
      "metadata": {
        "id": "n1r21TjQI_zE"
      }
    },
    {
      "cell_type": "markdown",
      "source": [
        "### PCA"
      ],
      "metadata": {
        "id": "DzDAPZjFqNsn"
      }
    },
    {
      "cell_type": "code",
      "source": [
        "# Menjalankan algoritma PCA\n",
        "from sklearn.decomposition import PCA\n",
        "pca = PCA(n_components = None)\n",
        "X_train = pca.fit_transform(X_train)\n",
        "X_test = pca.transform(X_test)\n",
        "hasil_variance = pca.explained_variance_ratio_ # Proses pengecekan variance"
      ],
      "metadata": {
        "id": "tmg7gUj0xdxN"
      },
      "execution_count": null,
      "outputs": []
    },
    {
      "cell_type": "code",
      "source": [
        "# Proses pemilihan PCs\n",
        "\n",
        "pca = PCA(n_components = 2)\n",
        "X_train = pca.fit_transform(X_train)\n",
        "X_test = pca.transform(X_test)\n",
        "hasil_variance2 = pca.explained_variance_ratio_"
      ],
      "metadata": {
        "id": "Ik9KaMyUxgK7"
      },
      "execution_count": null,
      "outputs": []
    },
    {
      "cell_type": "markdown",
      "source": [
        "# Modelling"
      ],
      "metadata": {
        "id": "kT1E8R-GI52s"
      }
    },
    {
      "cell_type": "markdown",
      "source": [
        "## Classification"
      ],
      "metadata": {
        "id": "FPec9E8urwvg"
      }
    },
    {
      "cell_type": "code",
      "source": [
        "# Menjalankan algoritma logistic regression ke training set\n",
        "from sklearn.metrics import confusion_matrix, classification_report\n",
        "from mlxtend.plotting import plot_decision_regions, plot_confusion_matrix\n",
        "from sklearn.linear_model import LogisticRegression\n",
        "classifier = LogisticRegression()\n",
        "\n",
        "#fit\n",
        "classifier.fit(X_train, y_train)\n",
        "\n",
        "# Predict\n",
        "y_pred = classifier.predict(X_test)\n",
        "\n",
        "# Evaluate the model\n",
        "print(classification_report(y_test, y_pred))\n",
        "plot_confusion_matrix(confusion_matrix(y_test, y_pred))"
      ],
      "metadata": {
        "colab": {
          "base_uri": "https://localhost:8080/",
          "height": 487
        },
        "id": "iLNnSWwbu9WD",
        "outputId": "bda28743-965f-4e4e-a223-ac8a94a89d72"
      },
      "execution_count": null,
      "outputs": [
        {
          "output_type": "stream",
          "name": "stdout",
          "text": [
            "              precision    recall  f1-score   support\n",
            "\n",
            "           0       1.00      1.00      1.00         8\n",
            "           1       0.88      0.88      0.88        17\n",
            "           2       0.33      0.33      0.33         3\n",
            "\n",
            "    accuracy                           0.86        28\n",
            "   macro avg       0.74      0.74      0.74        28\n",
            "weighted avg       0.86      0.86      0.86        28\n",
            "\n"
          ]
        },
        {
          "output_type": "execute_result",
          "data": {
            "text/plain": [
              "(<Figure size 432x288 with 1 Axes>,\n",
              " <matplotlib.axes._subplots.AxesSubplot at 0x7f4b23cd7750>)"
            ]
          },
          "metadata": {},
          "execution_count": 141
        },
        {
          "output_type": "display_data",
          "data": {
            "text/plain": [
              "<Figure size 432x288 with 1 Axes>"
            ],
            "image/png": "[encoded data removed]"
          },
          "metadata": {
            "needs_background": "light"
          }
        }
      ]
    },
    {
      "cell_type": "markdown",
      "source": [
        "## Visualisasi"
      ],
      "metadata": {
        "id": "0MGj5kvzwMbR"
      }
    },
    {
      "cell_type": "code",
      "source": [
        "# Visualisasi Training Set\n",
        "from matplotlib.colors import ListedColormap\n",
        "X_set, y_set = X_train, y_train\n",
        "X1, X2 = np.meshgrid(np.arange(start = X_set[:, 0].min() - 1, stop = X_set[:, 0].max() + 1, step = 0.01),\n",
        "                     np.arange(start = X_set[:, 1].min() - 1, stop = X_set[:, 1].max() + 1, step = 0.01))\n",
        "plt.contourf(X1, X2, classifier.predict(np.array([X1.ravel(), X2.ravel()]).T).reshape(X1.shape),\n",
        "             alpha = 0.75, cmap = ListedColormap(('red', 'green', 'blue')))\n",
        "plt.xlim(X1.min(), X1.max())\n",
        "plt.ylim(X2.min(), X2.max())\n",
        "for i, j in enumerate(np.unique(y_set)):\n",
        "    plt.scatter(X_set[y_set == j, 0], X_set[y_set == j, 1],\n",
        "                c = ListedColormap(('red', 'green', 'blue'))(i), label = j)\n",
        "plt.title('Logistic Regression (Training set)')\n",
        "plt.xlabel('PC1')\n",
        "plt.ylabel('PC2')\n",
        "plt.legend()\n",
        "plt.show()"
      ],
      "metadata": {
        "id": "pZmIP6I9wPKb",
        "colab": {
          "base_uri": "https://localhost:8080/",
          "height": 367
        },
        "outputId": "be865b02-a729-4295-9c51-7046871f1b9e"
      },
      "execution_count": null,
      "outputs": [
        {
          "output_type": "stream",
          "name": "stderr",
          "text": [
            "WARNING:matplotlib.axes._axes:*c* argument looks like a single numeric RGB or RGBA sequence, which should be avoided as value-mapping will have precedence in case its length matches with *x* & *y*.  Please use the *color* keyword-argument or provide a 2-D array with a single row if you intend to specify the same RGB or RGBA value for all points.\n",
            "WARNING:matplotlib.axes._axes:*c* argument looks like a single numeric RGB or RGBA sequence, which should be avoided as value-mapping will have precedence in case its length matches with *x* & *y*.  Please use the *color* keyword-argument or provide a 2-D array with a single row if you intend to specify the same RGB or RGBA value for all points.\n",
            "WARNING:matplotlib.axes._axes:*c* argument looks like a single numeric RGB or RGBA sequence, which should be avoided as value-mapping will have precedence in case its length matches with *x* & *y*.  Please use the *color* keyword-argument or provide a 2-D array with a single row if you intend to specify the same RGB or RGBA value for all points.\n"
          ]
        },
        {
          "output_type": "display_data",
          "data": {
            "text/plain": [
              "<Figure size 432x288 with 1 Axes>"
            ],
            "image/png": "[encoded data removed]"
          },
          "metadata": {
            "needs_background": "light"
          }
        }
      ]
    },
    {
      "cell_type": "code",
      "source": [
        "# Visualisasi Test Set\n",
        "from matplotlib.colors import ListedColormap\n",
        "X_set, y_set = X_test, y_test\n",
        "X1, X2 = np.meshgrid(np.arange(start = X_set[:, 0].min() - 1, stop = X_set[:, 0].max() + 1, step = 0.01),\n",
        "                     np.arange(start = X_set[:, 1].min() - 1, stop = X_set[:, 1].max() + 1, step = 0.01))\n",
        "plt.contourf(X1, X2, classifier.predict(np.array([X1.ravel(), X2.ravel()]).T).reshape(X1.shape),\n",
        "             alpha = 0.75, cmap = ListedColormap(('red', 'green', 'blue')))\n",
        "plt.xlim(X1.min(), X1.max())\n",
        "plt.ylim(X2.min(), X2.max())\n",
        "for i, j in enumerate(np.unique(y_set)):\n",
        "    plt.scatter(X_set[y_set == j, 0], X_set[y_set == j, 1],\n",
        "                c = ListedColormap(('red', 'green', 'blue'))(i), label = j)\n",
        "plt.title('Logistic Regression (Test set)')\n",
        "plt.xlabel('PC1')\n",
        "plt.ylabel('PC2')\n",
        "plt.legend()\n",
        "plt.show()"
      ],
      "metadata": {
        "id": "d9dGbZjgwRTQ",
        "colab": {
          "base_uri": "https://localhost:8080/",
          "height": 367
        },
        "outputId": "d0d524c1-3e42-49e3-cc61-b3e16efa73e9"
      },
      "execution_count": null,
      "outputs": [
        {
          "output_type": "stream",
          "name": "stderr",
          "text": [
            "WARNING:matplotlib.axes._axes:*c* argument looks like a single numeric RGB or RGBA sequence, which should be avoided as value-mapping will have precedence in case its length matches with *x* & *y*.  Please use the *color* keyword-argument or provide a 2-D array with a single row if you intend to specify the same RGB or RGBA value for all points.\n",
            "WARNING:matplotlib.axes._axes:*c* argument looks like a single numeric RGB or RGBA sequence, which should be avoided as value-mapping will have precedence in case its length matches with *x* & *y*.  Please use the *color* keyword-argument or provide a 2-D array with a single row if you intend to specify the same RGB or RGBA value for all points.\n",
            "WARNING:matplotlib.axes._axes:*c* argument looks like a single numeric RGB or RGBA sequence, which should be avoided as value-mapping will have precedence in case its length matches with *x* & *y*.  Please use the *color* keyword-argument or provide a 2-D array with a single row if you intend to specify the same RGB or RGBA value for all points.\n"
          ]
        },
        {
          "output_type": "display_data",
          "data": {
            "text/plain": [
              "<Figure size 432x288 with 1 Axes>"
            ],
            "image/png": "[encoded data removed]"
          },
          "metadata": {
            "needs_background": "light"
          }
        }
      ]
    }
  ]
}